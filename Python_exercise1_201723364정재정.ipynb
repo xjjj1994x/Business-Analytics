{
 "cells": [
  {
   "cell_type": "markdown",
   "metadata": {},
   "source": [
    "# 파이썬 스타일 코드1 - 연습해보기\n",
    "\n",
    "## 일반문제\n",
    "---------------------------------------------------------------------------------------------------------------\n",
    "\n",
    "### 1.Css Selector 수정\n",
    "Css Selector는 웹 페이지에서 특정 요소를 선택하기 위해 해당 요소까지 찾아갈 수 있도록 해주는 주소와 같은 것이다. 대부분의 웹브라우져에서 는 해당 요소에 대한 css selector 값을 쉽게 얻어올 수 있다 (F12 > Select an Element). 다음과 같은 selector가 있다고 한다."
   ]
  },
  {
   "cell_type": "code",
   "execution_count": 1,
   "metadata": {},
   "outputs": [],
   "source": [
    "#today_main_news > div.hdline_news > ul > li:nth-child(1)"
   ]
  },
  {
   "cell_type": "markdown",
   "metadata": {},
   "source": [
    "이러한 selector를 웹크롤링에서 사용하기 위해서는 :nth-child라는 부분을 제거하는 작업이 필요한데, 이를 자동화 해보자.\n",
    "\n",
    "Q: 해당 Selector를 문자열로 표시하고, split과 join 함수를 활용하여 다음 예시와 같은 selector를 출력하시오.\n",
    "\n",
    "### 출력결과 예시"
   ]
  },
  {
   "cell_type": "code",
   "execution_count": null,
   "metadata": {},
   "outputs": [],
   "source": [
    "selector = \"#today_main_news > div.hdline_news > ul > li:nth-child(1)\"\n",
    "## CODE\n",
    "## '#today_main_news  >  div.hdline_news  >  ul  >  li'"
   ]
  },
  {
   "cell_type": "markdown",
   "metadata": {},
   "source": [
    "### HINT\n",
    "1.특정 구분자(seperator)를 통해 구분된 리스트를 만든다.\n",
    "2.구분된 리스트에서 해당 부분을 선택하고 1과는 다른 특정 구분자로 나눠준다.\n",
    "3.2의 리스트에서 필요한 부분만 선택하여 기존 리스트에 할당한다.\n",
    "4.구분자를 기준으로 리스트를 문자열로 합쳐준다."
   ]
  },
  {
   "cell_type": "code",
   "execution_count": 2,
   "metadata": {},
   "outputs": [
    {
     "data": {
      "text/plain": [
       "'#today_main_news  >  div.hdline_news  >  ul  >  li'"
      ]
     },
     "execution_count": 2,
     "metadata": {},
     "output_type": "execute_result"
    }
   ],
   "source": [
    "selector = \"#today_main_news > div.hdline_news > ul > li:nth-child(1)\" # \"\" 안의 내용을 selector라는 변수에 저장합니다.\n",
    "\n",
    "selector_list = selector.split(\">\")# \">\" 앞 뒤의 문자열들을 삭제하고 리스트로 나타내어 'selector_list'에 저장합니다.\n",
    "selector_list[-1] = selector_list[-1].split(\":\")[0] # 맨 뒤의 li:nth-child(1) 부분을  :을 기준으로 스플릿합니다.\n",
    "\n",
    "\" > \".join(selector_list) # select_list에 있는 요소들을 \">\"을 삽입해 다시 조인합니다."
   ]
  },
  {
   "cell_type": "markdown",
   "metadata": {},
   "source": [
    "### 2. list comprehension으로 만드는 구구단\n",
    "PR5 문제 3번에서 만들었던 구구단 계산기를 list comprehension으로 구현해보고자 한다.\n",
    "\n",
    "Q: list comprehension을 사용하여 구구단을 연산하는 함수 gugu_com을 작성하고 구구단 7단을 출력하시오.\n",
    "\n",
    "#### 출력 결과 예시\n",
    "gugu_com(x=2)\n",
    " 2  x  1 = 2\n",
    " 2  x  2 = 4\n",
    " 2  x  3 = 6\n",
    " 2  x  4 = 8\n",
    " 2  x  5 = 10\n",
    " 2  x  6 = 12\n",
    " 2  x  7 = 14\n",
    " 2  x  8 = 16\n",
    " 2  x  9 = 18"
   ]
  },
  {
   "cell_type": "code",
   "execution_count": 20,
   "metadata": {},
   "outputs": [
    {
     "name": "stdout",
     "output_type": "stream",
     "text": [
      "7 x 1 = 7\n",
      "7 x 2 = 14\n",
      "7 x 3 = 21\n",
      "7 x 4 = 28\n",
      "7 x 5 = 35\n",
      "7 x 6 = 42\n",
      "7 x 7 = 49\n",
      "7 x 8 = 56\n",
      "7 x 9 = 63\n"
     ]
    }
   ],
   "source": [
    "def gugu_com(x=7):\n",
    "    [print(f\"{x} x {i} = {x*i}\") for i in range(1, 10)] \n",
    "#for i in range(1, 10)에서 파이썬 for문의 특성상 i는 1부터 9까지 반복된다.\n",
    "#gugu_com에 출력하고자 하는 단수를 입력하면 구구단이 출력된다.\n",
    "#print안에 f\"\"을 사용하여 x와i의 곱셈이 가능하도록 했다.\n",
    "\n",
    "gugu_com(7) #gugu_com(7)을 입력하여 7단을 실행시켰다."
   ]
  },
  {
   "cell_type": "markdown",
   "metadata": {},
   "source": [
    "3. 두 주사위의 곱\n",
    "두 주사위의 곱은 다음과 같은 결과를 가진다.\n",
    "\n",
    "x\t1\t2\t3\t4\t5\t6\n",
    "1\t1\t2\t3\t4\t5\t6\n",
    "2\t2\t4\t6\t8\t10\t12\n",
    "3\t3\t6\t9\t12\t15\t18\n",
    "4\t4\t8\t12\t16\t20\t24\n",
    "5\t5\t10\t15\t20\t25\t30\n",
    "6\t6\t12\t18\t24\t30\t36\n",
    "Q: list comprehension을 사용하여, 힌트를 제외하고는 한줄의 코드로 해당 결과를 가지는 이차원 리스트를 만드시오.\n",
    "\n",
    "출력결과 예시\n",
    "## CODE\n",
    "\n",
    "## [[1, 2, 3, 4, 5, 6],\n",
    "##  [2, 4, 6, 8, 10, 12],\n",
    "##  [3, 6, 9, 12, 15, 18],\n",
    "##  [4, 8, 12, 16, 20, 24],\n",
    "##  [5, 10, 15, 20, 25, 30],\n",
    "##  [6, 12, 18, 24, 30, 36]]\n",
    "HINT\n",
    "한개의 주사위는 다음과 같이 표현할 수 있습니다.\n",
    "die = [i for i in range(1,7)]"
   ]
  },
  {
   "cell_type": "code",
   "execution_count": 21,
   "metadata": {},
   "outputs": [
    {
     "data": {
      "text/plain": [
       "[[1, 2, 3, 4, 5, 6],\n",
       " [2, 4, 6, 8, 10, 12],\n",
       " [3, 6, 9, 12, 15, 18],\n",
       " [4, 8, 12, 16, 20, 24],\n",
       " [5, 10, 15, 20, 25, 30],\n",
       " [6, 12, 18, 24, 30, 36]]"
      ]
     },
     "execution_count": 21,
     "metadata": {},
     "output_type": "execute_result"
    }
   ],
   "source": [
    "die = [i for i in range(1,7)] # 주사위를 표현하는 die라는 변수를 생성합니다.\n",
    "\n",
    "[[j*i for i in die] for j in die] \n",
    "# for i in die, for j in die를 통해 6까지의 숫자가 포함된 list들의 요소를 출력합니다.\n",
    "#대괄호로 한번 더 감싸줌으로써 6개의 리스트들을 이중의 리스트로 만듭니다."
   ]
  },
  {
   "cell_type": "markdown",
   "metadata": {},
   "source": [
    "### 4. 두 주사위의 합¶\n",
    "간단한 테이블 형태의 데이터를 2차원 리스트로 표현해보자. 2개의 주사위를 굴리면 다음 표와 같이 36가지의 결과가 나온다.\n",
    "\n",
    "+\t1\t2\t3\t4\t5\t6\n",
    "1\t2\t3\t4\t5\t6\t7\n",
    "2\t3\t4\t5\t6\t7\t8\n",
    "3\t4\t5\t6\t7\t8\t9\n",
    "4\t5\t6\t7\t8\t9\t10\n",
    "5\t6\t7\t8\t9\t10\t11\n",
    "6\t7\t8\t9\t10\t11\t12\n",
    "Q: 이것을 6 x 6 크기의 2차원 리스트로 생성하고, 인덱싱을 통해 2 + 6의 값을 2가지 방법으로 나타내시오. (2차원 리스트 생성시 방법의 제한은 없습니다.)"
   ]
  },
  {
   "cell_type": "code",
   "execution_count": 22,
   "metadata": {},
   "outputs": [
    {
     "name": "stdout",
     "output_type": "stream",
     "text": [
      "8\n",
      "8\n"
     ]
    }
   ],
   "source": [
    "dice_sum = [[2, 3, 4, 5, 6, 7],\n",
    "            [3, 4, 5, 6, 7, 8],\n",
    "            [4, 5, 6, 7, 8, 9],\n",
    "            [5, 6, 7, 8, 9, 10],\n",
    "            [6, 7, 8, 9, 10, 11],\n",
    "            [7, 8, 9, 10, 11, 12]] # 이중 리스트를 만들기 위해 숫자를 직접 입력하여 하드코딩합니다.\n",
    "\n",
    "print(dice_sum[1][5]) #2번째 행의 6번째 요소를 프린트합니다.\n",
    "print(dice_sum[5][1]) #6번째 행의 2번째 요소를 프린트합니다."
   ]
  },
  {
   "cell_type": "code",
   "execution_count": 9,
   "metadata": {},
   "outputs": [
    {
     "name": "stdout",
     "output_type": "stream",
     "text": [
      "8\n",
      "8\n"
     ]
    }
   ],
   "source": [
    "die = [i for i in range(1,7)]\n",
    "\n",
    "dice_sum = [[j+i for i in die] for j in die] # 위에서 실습한 코드를 덧셈의 방식으로 응용해봅니다.\n",
    "\n",
    "print(dice_sum[1][5]) #2번째 행의 6번째 요소를 프린트합니다.\n",
    "print(dice_sum[5][1]) #6번째 행의 2번째 요소를 프린트합니다."
   ]
  },
  {
   "cell_type": "markdown",
   "metadata": {},
   "source": [
    "# 도전문제\n",
    "-------------------------------------------------------------------\n",
    "## 표절 검사 프로그램\n",
    "\n",
    "강의노트 07 자료구조 collections 설명 참고\n",
    "\n",
    "아주대학교 글로벌 경영학과의 한 교수님은 과제의 표절 검사를 쉽게 하기 위해 Python을 통한 간단한 표절 검사 프로그램을 작성해보고자 한다.\n",
    "\n",
    "현재 구상 중인 프로그램은 복잡한 알고리즘을 필요로하지 않고, 간단하게 단어 빈도를 기반으로 하여, 그 유사도를 측정하고자한다."
   ]
  },
  {
   "cell_type": "code",
   "execution_count": 23,
   "metadata": {},
   "outputs": [],
   "source": [
    "from collections import defaultdict, Counter # collections 모듈에서 defaultdict, Counter 라이브러리를 콜링합니다.\n",
    "\n",
    "text = \"\"\"Python is a very simple programming language so even if you are new to programming, you can learn python without facing any issues.\"\"\"\n",
    "\n",
    "text2 = \"\"\"C is a very difficult programming language so even if you are good at programming, you can learn c with facing any issues.\"\"\"\n",
    "\n",
    "text3 = \"\"\"R Programming is good at statistical analysis. you can learn easily\"\"\"\n",
    "\n",
    "#text, text2, text3에 \"\"으로 감싼 문자열들을 저장합니다."
   ]
  },
  {
   "cell_type": "markdown",
   "metadata": {},
   "source": [
    "### 문제1\n",
    "Q: defaultdict를 활용하여 text를 입력받으면 단어별 빈도를 측정하여 반환하는 함수 word_counter를 만드시오.\n",
    "\n",
    "### HINT\n",
    "1.collections 모듈의 defaultdict는 단순한 dict와 다르게, 인덱싱에서 key 값이 없으면 오류가 아닌 0을 기본 값으로 가지게 한다.\n",
    "word_dict = dict()\n",
    "word_dict[\"key\"]\n",
    "\n",
    "'## KeyError\n",
    "\n",
    "word_dict = defaultdict(lambda: 0)\n",
    "word_dict[\"key\"] \n",
    "'## 0\n",
    "\n",
    "word_dict[\"key\"] += 1\n",
    "word_dict[\"key\"]\n",
    "'## 1\n",
    "\n",
    "1. 유사도 측정을 위해 문장을 단어별로 분할해야하며, 편의를 위해 모두 소문자로 바꿔준다.\n",
    "split\n",
    "lower"
   ]
  },
  {
   "cell_type": "code",
   "execution_count": 24,
   "metadata": {},
   "outputs": [],
   "source": [
    "def word_counter(text):\n",
    "    word_count = defaultdict(lambda: 0) # 람다함수를 활용하여 디폴트값을 0으로 정합니다.\n",
    "    for word in text.lower().split(): # 편의를 위해 text의 문자들을 모두 소문자로 바꿔주고 블랭크를 기준으로 스플릿합니다.\n",
    "        word_count[word] += 1 # 카운트된 숫자를 1씩 증가하도록 합니다.\n",
    "        \n",
    "    return word_count # 함수의 결과를 반환합니다."
   ]
  },
  {
   "cell_type": "code",
   "execution_count": 14,
   "metadata": {},
   "outputs": [
    {
     "data": {
      "text/plain": [
       "defaultdict(<function __main__.word_counter.<locals>.<lambda>()>,\n",
       "            {'python': 2,\n",
       "             'is': 1,\n",
       "             'a': 1,\n",
       "             'very': 1,\n",
       "             'simple': 1,\n",
       "             'programming': 1,\n",
       "             'language': 1,\n",
       "             'so': 1,\n",
       "             'even': 1,\n",
       "             'if': 1,\n",
       "             'you': 2,\n",
       "             'are': 1,\n",
       "             'new': 1,\n",
       "             'to': 1,\n",
       "             'programming,': 1,\n",
       "             'can': 1,\n",
       "             'learn': 1,\n",
       "             'without': 1,\n",
       "             'facing': 1,\n",
       "             'any': 1,\n",
       "             'issues.': 1})"
      ]
     },
     "execution_count": 14,
     "metadata": {},
     "output_type": "execute_result"
    }
   ],
   "source": [
    "word_counter(text)"
   ]
  },
  {
   "cell_type": "markdown",
   "metadata": {},
   "source": [
    "### 문제 2\n",
    "Q: 도전문제 1의 word_counter 활용하여 text와 text2의 유사도와 text와 text3의 유사도를 구하시오.\n",
    "\n",
    "HINT\n",
    "collections 모듈의 Counter는 dict의 형태이지만 Counter들 간의 덧셈, 뺄셈 연산이 가능하며 defaultdict를 Counter로 변환할 수 있다.\n",
    "Counter({\"a\": 1, \"b\": 2, \"c\": 3}) - Counter({\"a\": 1, \"b\": 1, \"c\": 1}) \n",
    "\n",
    "`## Counter({'b': 1, 'c': 2})\n",
    "\n",
    "dictionary 형태의 모든 자료구조는 .values() 를 통해 value 값만 추출할 수 있다.\n",
    "sum(Counter({\"a\": 1, \"b\": 2, \"c\": 3}).values()) # 전체 단어수 합\n",
    "\n",
    "`## 6\n",
    "Counter(A)가 Counter(B)와 얼마나 유사한지는 다음과 같은 공식을 따른다고 한다.(시그마는 해당 Counter dict 안의 value 값을 모두 합하라는 의미)\n",
    "(1−∑(Counter(A)−Counter(B))∑Counter(A))×100"
   ]
  },
  {
   "cell_type": "code",
   "execution_count": 15,
   "metadata": {},
   "outputs": [],
   "source": [
    "def text_similarity(text_count_1, text_count_2): # 유사성을 확인하는 함수를 정의합니다.\n",
    "    text1_count = Counter(text_count_1) # text1을 collections 모듈의 Counter 형식으로 변환합니다.\n",
    "    text2_count = Counter(text_count_2) # text2를 collections 모듈의 Counter 형식으로 변환합니다.\n",
    "    \n",
    "    word_total = sum(text1_count.values()) #text1_count의 value값들을 전부 더합니다.\n",
    "    word_diff = sum((text1_count - text2_count).values()) #text1_count의 value값들을 전부 더합니다.\n",
    "    \n",
    "    return (1 - word_diff / word_total) * 100 # (1−∑(Counter(A)−Counter(B))∑Counter(A))×100 을 나타낸 식으로 유사성을 반환합니다."
   ]
  },
  {
   "cell_type": "code",
   "execution_count": 16,
   "metadata": {},
   "outputs": [
    {
     "data": {
      "text/plain": [
       "73.91304347826086"
      ]
     },
     "execution_count": 16,
     "metadata": {},
     "output_type": "execute_result"
    }
   ],
   "source": [
    "text_similarity(word_counter(text), word_counter(text2)) #유사성을 확인합니다."
   ]
  },
  {
   "cell_type": "code",
   "execution_count": 17,
   "metadata": {},
   "outputs": [
    {
     "data": {
      "text/plain": [
       "21.739130434782606"
      ]
     },
     "execution_count": 17,
     "metadata": {},
     "output_type": "execute_result"
    }
   ],
   "source": [
    "text_similarity(word_counter(text), word_counter(text3)) #유사성을 확인합니다."
   ]
  }
 ],
 "metadata": {
  "kernelspec": {
   "display_name": "Python 3",
   "language": "python",
   "name": "python3"
  },
  "language_info": {
   "codemirror_mode": {
    "name": "ipython",
    "version": 3
   },
   "file_extension": ".py",
   "mimetype": "text/x-python",
   "name": "python",
   "nbconvert_exporter": "python",
   "pygments_lexer": "ipython3",
   "version": "3.8.3"
  }
 },
 "nbformat": 4,
 "nbformat_minor": 4
}
